{
 "cells": [
  {
   "cell_type": "code",
   "execution_count": 82,
   "metadata": {},
   "outputs": [
    {
     "data": {
      "text/plain": [
       "'\\n\\nThis project is used data manipulation technique to study the terror case study.Motive of this project to find the suicide,\\nNumber of killed people and Wounded people in each event.\\n\\n'"
      ]
     },
     "execution_count": 82,
     "metadata": {},
     "output_type": "execute_result"
    }
   ],
   "source": [
    "'''\n",
    "\n",
    "This project is used data manipulation technique to study the terror case study.Motive of this project to find the suicide,\n",
    "Number of killed people and Wounded people in each event.\n",
    "\n",
    "'''"
   ]
  },
  {
   "cell_type": "code",
   "execution_count": 63,
   "metadata": {},
   "outputs": [],
   "source": [
    "\n",
    "\n",
    "import pandas as pd\n",
    "import numpy as np\n",
    "from pandas import DataFrame\n",
    "import os\n",
    "os.chdir('/Users/Desktop/Github/Data_Manipulation/Terror case study')"
   ]
  },
  {
   "cell_type": "code",
   "execution_count": 64,
   "metadata": {},
   "outputs": [
    {
     "name": "stdout",
     "output_type": "stream",
     "text": [
      "    eventid  iyear  imonth  iday approxdate  extended resolution  country  \\\n",
      "0  eventid1   1970       0     0        NaN         0        NaN       58   \n",
      "1  eventid2   1970       0     0        NaN         0        NaN      130   \n",
      "2  eventid3   1970       1     0        NaN         0        NaN      160   \n",
      "3  eventid4   1970       1     0        NaN         0        NaN       78   \n",
      "4  eventid5   1970       1     0        NaN         0        NaN      101   \n",
      "\n",
      "          country_txt  region  ... addnotes scite1 scite2  scite3  dbsource  \\\n",
      "0  Dominican Republic       2  ...      NaN    NaN    NaN     NaN      PGIS   \n",
      "1              Mexico       1  ...      NaN    NaN    NaN     NaN      PGIS   \n",
      "2         Philippines       5  ...      NaN    NaN    NaN     NaN      PGIS   \n",
      "3              Greece       8  ...      NaN    NaN    NaN     NaN      PGIS   \n",
      "4               Japan       4  ...      NaN    NaN    NaN     NaN      PGIS   \n",
      "\n",
      "   INT_LOG  INT_IDEO INT_MISC INT_ANY  related  \n",
      "0        0         0        0       0      NaN  \n",
      "1        0         1        1       1      NaN  \n",
      "2       -9        -9        1       1      NaN  \n",
      "3       -9        -9        1       1      NaN  \n",
      "4       -9        -9        1       1      NaN  \n",
      "\n",
      "[5 rows x 137 columns]\n",
      "(156772, 137)\n",
      "['eventid', 'iyear', 'imonth', 'iday', 'approxdate', 'extended', 'resolution', 'country', 'country_txt', 'region', 'region_txt', 'provstate', 'city', 'latitude', 'longitude', 'specificity', 'vicinity', 'location', 'summary', 'crit1', 'crit2', 'crit3', 'doubtterr', 'alternative', 'alternative_txt', 'multiple', 'success', 'suicide', 'attacktype1', 'attacktype1_txt', 'attacktype2', 'attacktype2_txt', 'attacktype3', 'attacktype3_txt', 'targtype1', 'targtype1_txt', 'targsubtype1', 'targsubtype1_txt', 'corp1', 'target1', 'natlty1', 'natlty1_txt', 'targtype2', 'targtype2_txt', 'targsubtype2', 'targsubtype2_txt', 'corp2', 'target2', 'natlty2', 'natlty2_txt', 'targtype3', 'targtype3_txt', 'targsubtype3', 'targsubtype3_txt', 'corp3', 'target3', 'natlty3', 'natlty3_txt', 'gname', 'gsubname', 'gname2', 'gsubname2', 'gname3', 'ingroup', 'ingroup2', 'ingroup3', 'gsubname3', 'motive', 'guncertain1', 'guncertain2', 'guncertain3', 'nperps', 'nperpcap', 'claimed', 'claimmode', 'claimmode_txt', 'claim2', 'claimmode2', 'claimmode2_txt', 'claim3', 'claimmode3', 'claimmode3_txt', 'compclaim', 'weaptype1', 'weaptype1_txt', 'weapsubtype1', 'weapsubtype1_txt', 'weaptype2', 'weaptype2_txt', 'weapsubtype2', 'weapsubtype2_txt', 'weaptype3', 'weaptype3_txt', 'weapsubtype3', 'weapsubtype3_txt', 'weaptype4', 'weaptype4_txt', 'weapsubtype4', 'weapsubtype4_txt', 'weapdetail', 'nkill', 'nkillus', 'nkillter', 'nwound', 'nwoundus', 'nwoundte', 'property', 'propextent', 'propextent_txt', 'propvalue', 'propcomment', 'ishostkid', 'nhostkid', 'nhostkidus', 'nhours', 'ndays', 'divert', 'kidhijcountry', 'ransom', 'ransomamt', 'ransomamtus', 'ransompaid', 'ransompaidus', 'ransomnote', 'hostkidoutcome', 'hostkidoutcome_txt', 'nreleased', 'addnotes', 'scite1', 'scite2', 'scite3', 'dbsource', 'INT_LOG', 'INT_IDEO', 'INT_MISC', 'INT_ANY', 'related']\n"
     ]
    },
    {
     "name": "stderr",
     "output_type": "stream",
     "text": [
      "/var/folders/mk/w5v6m8s178qb6zq684k2w9xh0000gn/T/ipykernel_2060/2539628933.py:1: DtypeWarning: Columns (4,61,62,66,116,117,123) have mixed types. Specify dtype option on import or set low_memory=False.\n",
      "  data=pd.read_csv('terror.csv',sep=',',header=0, encoding=\"latin\")\n"
     ]
    }
   ],
   "source": [
    "data=pd.read_csv('terror.csv',sep=',',header=0, encoding=\"latin\")\n",
    "\n",
    "print (data.head())\n",
    "print (data.shape)\n",
    "print (data.columns.tolist())\n"
   ]
  },
  {
   "cell_type": "code",
   "execution_count": 65,
   "metadata": {},
   "outputs": [
    {
     "data": {
      "text/plain": [
       "9940"
      ]
     },
     "execution_count": 65,
     "metadata": {},
     "output_type": "execute_result"
    }
   ],
   "source": [
    "\n",
    "### How many attacks happened in India\n",
    "data['country_txt'].unique().tolist()\n",
    "data[data['country_txt']==\"India\"]\n",
    "data[data['country_txt']==\"India\"].shape[0]\n"
   ]
  },
  {
   "cell_type": "code",
   "execution_count": 66,
   "metadata": {},
   "outputs": [
    {
     "data": {
      "text/plain": [
       "8362"
      ]
     },
     "execution_count": 66,
     "metadata": {},
     "output_type": "execute_result"
    }
   ],
   "source": [
    "## How many attacks happened in India and upto 3 people were killed\n",
    "data[(data['country_txt']=='India')&(data['nkill']<=3)].shape[0]\n"
   ]
  },
  {
   "cell_type": "code",
   "execution_count": 67,
   "metadata": {},
   "outputs": [
    {
     "data": {
      "text/plain": [
       "8362"
      ]
     },
     "execution_count": 67,
     "metadata": {},
     "output_type": "execute_result"
    }
   ],
   "source": [
    "# This looks ugly\n",
    "data.query(\"country_txt=='India' & nkill<=3\").shape[0]\n"
   ]
  },
  {
   "cell_type": "code",
   "execution_count": 68,
   "metadata": {},
   "outputs": [
    {
     "data": {
      "text/html": [
       "<div>\n",
       "<style scoped>\n",
       "    .dataframe tbody tr th:only-of-type {\n",
       "        vertical-align: middle;\n",
       "    }\n",
       "\n",
       "    .dataframe tbody tr th {\n",
       "        vertical-align: top;\n",
       "    }\n",
       "\n",
       "    .dataframe thead th {\n",
       "        text-align: right;\n",
       "    }\n",
       "</style>\n",
       "<table border=\"1\" class=\"dataframe\">\n",
       "  <thead>\n",
       "    <tr style=\"text-align: right;\">\n",
       "      <th></th>\n",
       "      <th>city</th>\n",
       "      <th>summary</th>\n",
       "    </tr>\n",
       "  </thead>\n",
       "  <tbody>\n",
       "    <tr>\n",
       "      <th>1185</th>\n",
       "      <td>New Delhi</td>\n",
       "      <td>NaN</td>\n",
       "    </tr>\n",
       "    <tr>\n",
       "      <th>3780</th>\n",
       "      <td>New Delhi</td>\n",
       "      <td>NaN</td>\n",
       "    </tr>\n",
       "    <tr>\n",
       "      <th>5251</th>\n",
       "      <td>Bombay</td>\n",
       "      <td>NaN</td>\n",
       "    </tr>\n",
       "    <tr>\n",
       "      <th>7266</th>\n",
       "      <td>Imphal</td>\n",
       "      <td>NaN</td>\n",
       "    </tr>\n",
       "    <tr>\n",
       "      <th>8609</th>\n",
       "      <td>Unknown</td>\n",
       "      <td>NaN</td>\n",
       "    </tr>\n",
       "    <tr>\n",
       "      <th>8755</th>\n",
       "      <td>Unknown</td>\n",
       "      <td>NaN</td>\n",
       "    </tr>\n",
       "    <tr>\n",
       "      <th>8977</th>\n",
       "      <td>Amapur</td>\n",
       "      <td>NaN</td>\n",
       "    </tr>\n",
       "    <tr>\n",
       "      <th>9037</th>\n",
       "      <td>Raisikah</td>\n",
       "      <td>NaN</td>\n",
       "    </tr>\n",
       "    <tr>\n",
       "      <th>9040</th>\n",
       "      <td>Champhai</td>\n",
       "      <td>NaN</td>\n",
       "    </tr>\n",
       "    <tr>\n",
       "      <th>9070</th>\n",
       "      <td>Aizawl</td>\n",
       "      <td>NaN</td>\n",
       "    </tr>\n",
       "  </tbody>\n",
       "</table>\n",
       "</div>"
      ],
      "text/plain": [
       "           city summary\n",
       "1185  New Delhi     NaN\n",
       "3780  New Delhi     NaN\n",
       "5251     Bombay     NaN\n",
       "7266     Imphal     NaN\n",
       "8609    Unknown     NaN\n",
       "8755    Unknown     NaN\n",
       "8977     Amapur     NaN\n",
       "9037   Raisikah     NaN\n",
       "9040   Champhai     NaN\n",
       "9070     Aizawl     NaN"
      ]
     },
     "execution_count": 68,
     "metadata": {},
     "output_type": "execute_result"
    }
   ],
   "source": [
    "# Extract the city and summary for attacks above\n",
    "data.query(\"country_txt=='India' & nkill<=3\")[['city','summary']].head(10)\n"
   ]
  },
  {
   "cell_type": "code",
   "execution_count": 69,
   "metadata": {},
   "outputs": [
    {
     "data": {
      "text/plain": [
       "81000                Mumbai\n",
       "96598               Jhargam\n",
       "54339                Bombay\n",
       "95860    Dantewada district\n",
       "56837              Banabari\n",
       "Name: city, dtype: object"
      ]
     },
     "execution_count": 69,
     "metadata": {},
     "output_type": "execute_result"
    }
   ],
   "source": [
    "# In a single terror incident in India, find out top 5 cities by number killed\n",
    "data.query(\"country_txt=='India'\").sort_values('nkill',ascending=False)['city'].head(5)\n"
   ]
  },
  {
   "cell_type": "code",
   "execution_count": 70,
   "metadata": {},
   "outputs": [
    {
     "data": {
      "text/html": [
       "<div>\n",
       "<style scoped>\n",
       "    .dataframe tbody tr th:only-of-type {\n",
       "        vertical-align: middle;\n",
       "    }\n",
       "\n",
       "    .dataframe tbody tr th {\n",
       "        vertical-align: top;\n",
       "    }\n",
       "\n",
       "    .dataframe thead th {\n",
       "        text-align: right;\n",
       "    }\n",
       "</style>\n",
       "<table border=\"1\" class=\"dataframe\">\n",
       "  <thead>\n",
       "    <tr style=\"text-align: right;\">\n",
       "      <th></th>\n",
       "      <th>city</th>\n",
       "      <th>nkill</th>\n",
       "      <th>iyear</th>\n",
       "    </tr>\n",
       "  </thead>\n",
       "  <tbody>\n",
       "    <tr>\n",
       "      <th>81000</th>\n",
       "      <td>Mumbai</td>\n",
       "      <td>188.0</td>\n",
       "      <td>2006</td>\n",
       "    </tr>\n",
       "    <tr>\n",
       "      <th>96598</th>\n",
       "      <td>Jhargam</td>\n",
       "      <td>115.0</td>\n",
       "      <td>2010</td>\n",
       "    </tr>\n",
       "    <tr>\n",
       "      <th>54339</th>\n",
       "      <td>Bombay</td>\n",
       "      <td>115.0</td>\n",
       "      <td>1992</td>\n",
       "    </tr>\n",
       "    <tr>\n",
       "      <th>95860</th>\n",
       "      <td>Dantewada district</td>\n",
       "      <td>82.0</td>\n",
       "      <td>2010</td>\n",
       "    </tr>\n",
       "    <tr>\n",
       "      <th>56837</th>\n",
       "      <td>Banabari</td>\n",
       "      <td>70.0</td>\n",
       "      <td>1994</td>\n",
       "    </tr>\n",
       "  </tbody>\n",
       "</table>\n",
       "</div>"
      ],
      "text/plain": [
       "                     city  nkill  iyear\n",
       "81000              Mumbai  188.0   2006\n",
       "96598             Jhargam  115.0   2010\n",
       "54339              Bombay  115.0   1992\n",
       "95860  Dantewada district   82.0   2010\n",
       "56837            Banabari   70.0   1994"
      ]
     },
     "execution_count": 70,
     "metadata": {},
     "output_type": "execute_result"
    }
   ],
   "source": [
    "# Little more detailed\n",
    "data.query(\"country_txt=='India'\").sort_values('nkill',ascending=False)[['city','nkill','iyear']].head(5)\n"
   ]
  },
  {
   "cell_type": "code",
   "execution_count": 71,
   "metadata": {},
   "outputs": [
    {
     "data": {
      "text/plain": [
       "81000                Mumbai\n",
       "96598               Jhargam\n",
       "54339                Bombay\n",
       "95860    Dantewada district\n",
       "56837              Banabari\n",
       "Name: city, dtype: object"
      ]
     },
     "execution_count": 71,
     "metadata": {},
     "output_type": "execute_result"
    }
   ],
   "source": [
    "\n",
    "# In a single terror incident in India, find out top 5 cities by number killed and wounded\n",
    "data.query(\"country_txt=='India'\").sort_values(['nkill','nwound'],ascending=[False,False])['city'].head(5)\n"
   ]
  },
  {
   "cell_type": "code",
   "execution_count": 72,
   "metadata": {},
   "outputs": [
    {
     "data": {
      "text/plain": [
       "4260"
      ]
     },
     "execution_count": 72,
     "metadata": {},
     "output_type": "execute_result"
    }
   ],
   "source": [
    "#### Adding new columns to the data\n",
    "#Attacks which were successful and were suicide attacks\n",
    "data['success_suicide']=data['suicide']+data['success']\n",
    "data=data.assign(success_suicide_1=data['suicide']+data['success'])\n",
    "\n",
    "data.query(\"success_suicide==2\").shape[0]\n"
   ]
  },
  {
   "cell_type": "code",
   "execution_count": 73,
   "metadata": {},
   "outputs": [],
   "source": [
    "\n",
    "### Dropping columns\n",
    "data.drop('success_suicide',axis=1) \n",
    "data.drop('success_suicide',axis=1,inplace=True) \n"
   ]
  },
  {
   "cell_type": "code",
   "execution_count": 74,
   "metadata": {},
   "outputs": [
    {
     "data": {
      "text/plain": [
       "0         Not Severe\n",
       "1         Not Severe\n",
       "2         Not Severe\n",
       "3         Not Severe\n",
       "4         Not Severe\n",
       "             ...    \n",
       "156767    Not Severe\n",
       "156768    Not Severe\n",
       "156769    Not Severe\n",
       "156770    Not Severe\n",
       "156771    Not Severe\n",
       "Name: nkill, Length: 156772, dtype: object"
      ]
     },
     "execution_count": 74,
     "metadata": {},
     "output_type": "execute_result"
    }
   ],
   "source": [
    "\n",
    "### Aggregations and manipulations using apply and map\n",
    "#map: map a function to each element of a series object\n",
    "data['nkill'].describe()\n",
    "#Suppose we want to label all the incidents where the number killed was more than 5 as severe. This would involve applying a function on each element of the series, map helps in doing that\n",
    "def get_label(x):\n",
    "    if x>5:\n",
    "        return 'Severe'\n",
    "    else:\n",
    "        return 'Not Severe'\n",
    "data['nkill'].map(get_label)\n",
    "#You can use lambda functions as well (if else follows a special form when used with lambdas )\n",
    "data['nkill'].map(lambda x: \"Severe\" if x>5 else \"Not Severe\")"
   ]
  },
  {
   "cell_type": "code",
   "execution_count": 75,
   "metadata": {},
   "outputs": [
    {
     "data": {
      "text/plain": [
       "0         0\n",
       "1         0\n",
       "2         0\n",
       "3         0\n",
       "4         0\n",
       "         ..\n",
       "156767    0\n",
       "156768    0\n",
       "156769    0\n",
       "156770    0\n",
       "156771    0\n",
       "Length: 156772, dtype: int64"
      ]
     },
     "execution_count": 75,
     "metadata": {},
     "output_type": "execute_result"
    }
   ],
   "source": [
    "# We can use apply to use a function row wise or column wise\n",
    "# Let's write a function to label an incident that was both successful and suicidal\n",
    "\n",
    "def get_label(row):\n",
    "    if row['success']==1 and row['suicide']==1:\n",
    "        return 1\n",
    "    else:\n",
    "        return 0\n",
    "data.apply(get_label,axis=1)\n",
    "data.apply(get_label,axis=1).unique()\n",
    "\n",
    "data.apply(lambda row: 1 if row['success']==1 and row['suicide']==1 else 0,axis=1)\n"
   ]
  },
  {
   "cell_type": "code",
   "execution_count": 76,
   "metadata": {},
   "outputs": [],
   "source": [
    "\n",
    "### Create a new  category representing if the incident occured in Afghanistan, Pakistan or India as one level of the category and all the other countries as another level\n",
    "\n",
    "def get_label(row):\n",
    "    if row['country_txt']=='India' or row['country_txt']=='Afghnistan' or row['country_txt']=='Pakistan':\n",
    "        return 'Af-Pak-India'\n",
    "    else:\n",
    "        return 'ROW'\n",
    "data.apply(get_label,axis=1)\n",
    "\n",
    "data['Local']=data.apply(get_label,axis=1)\n"
   ]
  },
  {
   "cell_type": "code",
   "execution_count": 77,
   "metadata": {},
   "outputs": [
    {
     "data": {
      "text/plain": [
       "0         ROW\n",
       "1         ROW\n",
       "2         ROW\n",
       "3         ROW\n",
       "4         ROW\n",
       "         ... \n",
       "156767    ROW\n",
       "156768    ROW\n",
       "156769    ROW\n",
       "156770    ROW\n",
       "156771    ROW\n",
       "Length: 156772, dtype: object"
      ]
     },
     "execution_count": 77,
     "metadata": {},
     "output_type": "execute_result"
    }
   ],
   "source": [
    "data.apply(lambda row: 'Af-Pak-India' if row['country_txt']=='India' or row['country_txt']=='Afghnistan' or row['country_txt']=='Pakistan' else  'ROW', axis =1 )"
   ]
  },
  {
   "cell_type": "code",
   "execution_count": 78,
   "metadata": {},
   "outputs": [
    {
     "data": {
      "text/plain": [
       "Local\n",
       "Af-Pak-India     22708\n",
       "ROW             134064\n",
       "dtype: int64"
      ]
     },
     "execution_count": 78,
     "metadata": {},
     "output_type": "execute_result"
    }
   ],
   "source": [
    "\n",
    "## Number of incidents in Af-Pak-India vs ROW\n",
    "data['Local'].value_counts()\n",
    "data.groupby('Local').size()"
   ]
  },
  {
   "cell_type": "code",
   "execution_count": 79,
   "metadata": {},
   "outputs": [
    {
     "data": {
      "text/html": [
       "<div>\n",
       "<style scoped>\n",
       "    .dataframe tbody tr th:only-of-type {\n",
       "        vertical-align: middle;\n",
       "    }\n",
       "\n",
       "    .dataframe tbody tr th {\n",
       "        vertical-align: top;\n",
       "    }\n",
       "\n",
       "    .dataframe thead th {\n",
       "        text-align: right;\n",
       "    }\n",
       "</style>\n",
       "<table border=\"1\" class=\"dataframe\">\n",
       "  <thead>\n",
       "    <tr style=\"text-align: right;\">\n",
       "      <th></th>\n",
       "      <th>Local</th>\n",
       "      <th>suicide</th>\n",
       "      <th>eventid</th>\n",
       "    </tr>\n",
       "  </thead>\n",
       "  <tbody>\n",
       "    <tr>\n",
       "      <th>0</th>\n",
       "      <td>Af-Pak-India</td>\n",
       "      <td>0</td>\n",
       "      <td>22228</td>\n",
       "    </tr>\n",
       "    <tr>\n",
       "      <th>1</th>\n",
       "      <td>Af-Pak-India</td>\n",
       "      <td>1</td>\n",
       "      <td>480</td>\n",
       "    </tr>\n",
       "    <tr>\n",
       "      <th>2</th>\n",
       "      <td>ROW</td>\n",
       "      <td>0</td>\n",
       "      <td>129773</td>\n",
       "    </tr>\n",
       "    <tr>\n",
       "      <th>3</th>\n",
       "      <td>ROW</td>\n",
       "      <td>1</td>\n",
       "      <td>4291</td>\n",
       "    </tr>\n",
       "  </tbody>\n",
       "</table>\n",
       "</div>"
      ],
      "text/plain": [
       "          Local  suicide  eventid\n",
       "0  Af-Pak-India        0    22228\n",
       "1  Af-Pak-India        1      480\n",
       "2           ROW        0   129773\n",
       "3           ROW        1     4291"
      ]
     },
     "execution_count": 79,
     "metadata": {},
     "output_type": "execute_result"
    }
   ],
   "source": [
    "\n",
    "\n",
    "## Number of suicide attacks by Af-Pak-India vs ROW\n",
    "data.groupby(['Local','suicide']).agg({'eventid':np.size})\n",
    "data.groupby(['Local','suicide'],as_index=False).agg({'eventid':np.size})\n"
   ]
  },
  {
   "cell_type": "code",
   "execution_count": 80,
   "metadata": {},
   "outputs": [
    {
     "data": {
      "text/html": [
       "<div>\n",
       "<style scoped>\n",
       "    .dataframe tbody tr th:only-of-type {\n",
       "        vertical-align: middle;\n",
       "    }\n",
       "\n",
       "    .dataframe tbody tr th {\n",
       "        vertical-align: top;\n",
       "    }\n",
       "\n",
       "    .dataframe thead th {\n",
       "        text-align: right;\n",
       "    }\n",
       "</style>\n",
       "<table border=\"1\" class=\"dataframe\">\n",
       "  <thead>\n",
       "    <tr style=\"text-align: right;\">\n",
       "      <th></th>\n",
       "      <th>Local</th>\n",
       "      <th>suicide</th>\n",
       "      <th>mean</th>\n",
       "      <th>size</th>\n",
       "    </tr>\n",
       "  </thead>\n",
       "  <tbody>\n",
       "    <tr>\n",
       "      <th>0</th>\n",
       "      <td>Af-Pak-India</td>\n",
       "      <td>0</td>\n",
       "      <td>1.539059</td>\n",
       "      <td>22228</td>\n",
       "    </tr>\n",
       "    <tr>\n",
       "      <th>1</th>\n",
       "      <td>Af-Pak-India</td>\n",
       "      <td>1</td>\n",
       "      <td>13.157620</td>\n",
       "      <td>480</td>\n",
       "    </tr>\n",
       "    <tr>\n",
       "      <th>2</th>\n",
       "      <td>ROW</td>\n",
       "      <td>0</td>\n",
       "      <td>2.192427</td>\n",
       "      <td>129773</td>\n",
       "    </tr>\n",
       "    <tr>\n",
       "      <th>3</th>\n",
       "      <td>ROW</td>\n",
       "      <td>1</td>\n",
       "      <td>10.159229</td>\n",
       "      <td>4291</td>\n",
       "    </tr>\n",
       "  </tbody>\n",
       "</table>\n",
       "</div>"
      ],
      "text/plain": [
       "          Local  suicide       mean    size\n",
       "0  Af-Pak-India        0   1.539059   22228\n",
       "1  Af-Pak-India        1  13.157620     480\n",
       "2           ROW        0   2.192427  129773\n",
       "3           ROW        1  10.159229    4291"
      ]
     },
     "execution_count": 80,
     "metadata": {},
     "output_type": "execute_result"
    }
   ],
   "source": [
    "\n",
    "## Number of suicides attacks and average kills by Af-Pak-India vs ROW\n",
    "data.groupby(['Local','suicide'])['nkill'].agg([np.mean,np.size])\n",
    "data.groupby(['Local','suicide'])['nkill'].agg([np.mean,np.size]).reset_index()"
   ]
  },
  {
   "cell_type": "code",
   "execution_count": 81,
   "metadata": {},
   "outputs": [
    {
     "data": {
      "text/html": [
       "<div>\n",
       "<style scoped>\n",
       "    .dataframe tbody tr th:only-of-type {\n",
       "        vertical-align: middle;\n",
       "    }\n",
       "\n",
       "    .dataframe tbody tr th {\n",
       "        vertical-align: top;\n",
       "    }\n",
       "\n",
       "    .dataframe thead th {\n",
       "        text-align: right;\n",
       "    }\n",
       "</style>\n",
       "<table border=\"1\" class=\"dataframe\">\n",
       "  <thead>\n",
       "    <tr style=\"text-align: right;\">\n",
       "      <th></th>\n",
       "      <th>Local</th>\n",
       "      <th>suicide</th>\n",
       "      <th>Number_Killed</th>\n",
       "      <th>Total_Wounded</th>\n",
       "    </tr>\n",
       "  </thead>\n",
       "  <tbody>\n",
       "    <tr>\n",
       "      <th>0</th>\n",
       "      <td>Af-Pak-India</td>\n",
       "      <td>0</td>\n",
       "      <td>1.539059</td>\n",
       "      <td>53341.00</td>\n",
       "    </tr>\n",
       "    <tr>\n",
       "      <th>1</th>\n",
       "      <td>Af-Pak-India</td>\n",
       "      <td>1</td>\n",
       "      <td>13.157620</td>\n",
       "      <td>11928.00</td>\n",
       "    </tr>\n",
       "    <tr>\n",
       "      <th>2</th>\n",
       "      <td>ROW</td>\n",
       "      <td>0</td>\n",
       "      <td>2.192427</td>\n",
       "      <td>292321.31</td>\n",
       "    </tr>\n",
       "    <tr>\n",
       "      <th>3</th>\n",
       "      <td>ROW</td>\n",
       "      <td>1</td>\n",
       "      <td>10.159229</td>\n",
       "      <td>82946.69</td>\n",
       "    </tr>\n",
       "  </tbody>\n",
       "</table>\n",
       "</div>"
      ],
      "text/plain": [
       "          Local  suicide  Number_Killed  Total_Wounded\n",
       "0  Af-Pak-India        0       1.539059       53341.00\n",
       "1  Af-Pak-India        1      13.157620       11928.00\n",
       "2           ROW        0       2.192427      292321.31\n",
       "3           ROW        1      10.159229       82946.69"
      ]
     },
     "execution_count": 81,
     "metadata": {},
     "output_type": "execute_result"
    }
   ],
   "source": [
    "#Rename columns\n",
    "data.groupby(['Local','suicide'])['nkill'].agg([np.mean,np.size]).reset_index().rename(columns={'mean':'Average_Kills','size':'Number_Incidents'})\n",
    "\n",
    "data.groupby([\"Local\",'suicide']).agg({'nkill':np.mean,'nwound':np.sum}).reset_index().rename(columns={'nwound':'Total_Wounded','nkill':'Number_Killed'})\n"
   ]
  },
  {
   "cell_type": "code",
   "execution_count": null,
   "metadata": {},
   "outputs": [],
   "source": []
  },
  {
   "cell_type": "code",
   "execution_count": null,
   "metadata": {},
   "outputs": [],
   "source": []
  },
  {
   "cell_type": "code",
   "execution_count": null,
   "metadata": {},
   "outputs": [],
   "source": []
  }
 ],
 "metadata": {
  "kernelspec": {
   "display_name": "Python 3 (ipykernel)",
   "language": "python",
   "name": "python3"
  },
  "language_info": {
   "codemirror_mode": {
    "name": "ipython",
    "version": 3
   },
   "file_extension": ".py",
   "mimetype": "text/x-python",
   "name": "python",
   "nbconvert_exporter": "python",
   "pygments_lexer": "ipython3",
   "version": "3.10.9"
  }
 },
 "nbformat": 4,
 "nbformat_minor": 2
}
